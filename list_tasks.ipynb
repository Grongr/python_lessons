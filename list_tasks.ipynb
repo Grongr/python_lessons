{
 "cells": [
  {
   "cell_type": "markdown",
   "id": "4b07ef78-db60-4a9a-aef2-9ea29288988f",
   "metadata": {},
   "source": [
    "# Сегодня будем решать и разбирать задачи на тему списков, list!"
   ]
  },
  {
   "cell_type": "markdown",
   "id": "9dc34df4-447d-43c6-af5e-fb3788cbdcee",
   "metadata": {},
   "source": [
    "Итак, начнем с краткого повторения и памятки для вас, чтобы вам было проще решать задачки!"
   ]
  },
  {
   "cell_type": "markdown",
   "id": "4761d61f-4059-4e0c-9afd-aff5a3a244c1",
   "metadata": {},
   "source": [
    "### 📚 **Краткая теория по спискам в Python**  \n",
    "\n",
    "**Список** — это упорядоченный набор элементов (чисел, строк, других списков и т. д.), который можно изменять.  \n",
    "\n",
    "#### **1. Создание списка**  \n",
    "```python\n",
    "numbers = [1, 2, 3, 4]          # Список чисел\n",
    "fruits = [\"яблоко\", \"груша\"]    # Список строк\n",
    "mixed = [1, \"текст\", True]      # Смешанный список\n",
    "empty = []                      # Пустой список\n",
    "```\n",
    "\n",
    "#### **2. Основные операции**  \n",
    "- **Индексация** (начинается с 0):  \n",
    "  ```python\n",
    "  nums = [10, 20, 30]\n",
    "  print(nums[0])    # 10 (первый элемент)\n",
    "  print(nums[-1])   # 30 (последний элемент)\n",
    "  ```  \n",
    "- **Срезы** (`[начало:конец:шаг]`):  \n",
    "  ```python\n",
    "  print(nums[1:3])   # [20, 30] (элементы с индексом 1 и 2)\n",
    "  print(nums[::-1])  # [30, 20, 10] (разворот списка)\n",
    "  ```  \n",
    "\n",
    "#### **3. Основные методы**  \n",
    "| Метод         | Пример                          | Что делает                     |\n",
    "|---------------|---------------------------------|--------------------------------|\n",
    "| `append(x)`   | `nums.append(40)`              | Добавляет `40` в конец списка  |\n",
    "| `pop()`       | `nums.pop(1)`                  | Удаляет элемент с индексом `1` |\n",
    "| `remove(x)`   | `fruits.remove(\"груша\")`       | Удаляет первый элемент `\"груша\"` |\n",
    "| `insert(i, x)`| `nums.insert(0, 5)`            | Вставляет `5` на позицию `0`   |\n",
    "| `sort()`      | `nums.sort()`                  | Сортирует список по возрастанию|\n",
    "| `reverse()`   | `nums.reverse()`               | Разворачивает список           |\n",
    "| `count(x)`    | `nums.count(10)`               | Считает, сколько раз встречается `10` |\n",
    "| `len()`       | `len(nums)`                    | Возвращает длину списка        |\n",
    "\n",
    "#### **4. Полезные функции**  \n",
    "```python\n",
    "sum([1, 2, 3])      # 6 (сумма элементов)\n",
    "min([5, 2, 8])      # 2 (минимальное значение)\n",
    "max([5, 2, 8])      # 8 (максимальное значение)\n",
    "```\n",
    "\n",
    "#### **5. Перебор элементов**  \n",
    "```python\n",
    "fruit_list = [\"яблоко\", \"груша\"]\n",
    "for fruit in fruit_list:\n",
    "    print(fruit)    # Выведет каждый фрукт\n",
    "for i in range(len(fruit_list)):\n",
    "    print(fruit_list[i]) # Также выведет каждый фрукт\n",
    "```\n",
    "\n",
    "> 💡 **Важно**: Индексы начинаются с `0`, а не с `1`! Методы `pop()`, `remove()` и `insert()` изменяют исходный список.  "
   ]
  },
  {
   "cell_type": "markdown",
   "id": "dda794b8-3870-4e5e-b6cf-c883ca021c92",
   "metadata": {},
   "source": [
    "## ЗАДАЧИ"
   ]
  },
  {
   "cell_type": "markdown",
   "id": "4ea5bbd1-b4ab-4253-926a-ab3621bd68f5",
   "metadata": {},
   "source": [
    "### Задача 1\n",
    "Дан список `[3, 7, 3, 4, 5, 1, 8]`. Ваша задача найти сумму чисел, составляющих этот список. Предоставить нужно два решения:\n",
    "- Решите с помощью встроенной функции `sum`\n",
    "- Решите с помощью цикла `for`, не используя встроенную функцию `sum`"
   ]
  },
  {
   "cell_type": "code",
   "execution_count": 2,
   "id": "f6d7a2e7-d1a4-47e7-ac75-c245ad6f7931",
   "metadata": {},
   "outputs": [
    {
     "name": "stdout",
     "output_type": "stream",
     "text": [
      "31\n",
      "31\n"
     ]
    }
   ],
   "source": [
    "l = [3, 7, 3, 4, 5, 1, 8]\n",
    "s = sum(l)\n",
    "print(s)\n",
    "s = 0\n",
    "for ll in l:\n",
    "    s += ll\n",
    "print(s)"
   ]
  },
  {
   "cell_type": "markdown",
   "id": "cbbf329d-bee6-4c96-9e9e-60fb8ac9671c",
   "metadata": {},
   "source": [
    "### Задача 2\n",
    "Дан список: `[1, 2, 2, 3, 4, 4, 5]`. Создай новый список, где каждый элемент уникален (используй `append()` и проверку `if x not in new_list)`."
   ]
  },
  {
   "cell_type": "code",
   "execution_count": 3,
   "id": "a8859585-00b3-468d-85e1-00c06e9cafc2",
   "metadata": {},
   "outputs": [
    {
     "name": "stdout",
     "output_type": "stream",
     "text": [
      "[1, 2, 3, 4, 5]\n"
     ]
    }
   ],
   "source": [
    "l = [1, 2, 2, 3, 4, 4, 5]\n",
    "new_list = []\n",
    "for x in l:\n",
    "    if not (x in new_list):\n",
    "        new_list.append(x)\n",
    "print(new_list)"
   ]
  },
  {
   "cell_type": "markdown",
   "id": "f8cc3012-692a-43ba-9719-d7411884efdc",
   "metadata": {},
   "source": [
    "### Задача 3\n",
    "Дан список: `[\"яблоко\", \"груша\", \"апельсин\"]`. Замени \"груша\" на \"банан\" по индексу и выведи список."
   ]
  },
  {
   "cell_type": "code",
   "execution_count": 4,
   "id": "75ff9826-ff41-47e3-9ed3-d2c0e6a89bd3",
   "metadata": {},
   "outputs": [
    {
     "name": "stdout",
     "output_type": "stream",
     "text": [
      "['яблоко', 'банан', 'апельсин']\n"
     ]
    }
   ],
   "source": [
    "l = [\"яблоко\", \"груша\", \"апельсин\"]\n",
    "l[1] = \"банан\"\n",
    "print(l)"
   ]
  },
  {
   "cell_type": "markdown",
   "id": "bcc70c86-703b-4531-9672-bd7612d49f16",
   "metadata": {},
   "source": [
    "### Задача 4\n",
    "Дан список: `[\"hello\", \"world\", \"python\"]`. Выведи первые 3 буквы каждого слова (используй срезы и цикл)."
   ]
  },
  {
   "cell_type": "code",
   "execution_count": 7,
   "id": "6ff81742-1216-4341-ba9e-4f92466f9834",
   "metadata": {},
   "outputs": [
    {
     "name": "stdout",
     "output_type": "stream",
     "text": [
      "hel\n",
      "wor\n",
      "pyt\n"
     ]
    }
   ],
   "source": [
    "l = [\"hello\", \"world\", \"python\"]\n",
    "for word in l:\n",
    "    for i in range(3):\n",
    "        print(word[i], sep=\"\", end=\"\")\n",
    "    print()"
   ]
  },
  {
   "cell_type": "markdown",
   "id": "db03773b-4d69-48e6-baae-def8e0c9b6f9",
   "metadata": {},
   "source": [
    "### Задача 5\n",
    "Дан список: `[10, 20, 30, 40]`. Удали второй элемент через `pop()`, а затем вставь число 99 на его место через `insert()`. Выведи результат."
   ]
  },
  {
   "cell_type": "code",
   "execution_count": 11,
   "id": "4c283b35-6e2f-4ad6-9b08-753cdd946996",
   "metadata": {},
   "outputs": [
    {
     "name": "stdout",
     "output_type": "stream",
     "text": [
      "[10, 99, 30, 40]\n"
     ]
    }
   ],
   "source": [
    "l = [10, 20, 30, 40]\n",
    "l.pop(1)\n",
    "l.insert(1, 99)\n",
    "print(l)"
   ]
  },
  {
   "cell_type": "markdown",
   "id": "0a223175-e5ad-4a1f-be65-2f0620734f0c",
   "metadata": {},
   "source": [
    "### Задача 6\n",
    "Дан список: `[1, 2, 3, 4, 5]`. Разверни его тремя способами:\n",
    "- Через метод `reverse()`.\n",
    "- Через срез `[::-1]`.\n",
    "- Через цикл и `append()` (создавая новый список)."
   ]
  },
  {
   "cell_type": "code",
   "execution_count": 18,
   "id": "efbcb09a-4437-4b4e-93c9-3f7d64d32d4a",
   "metadata": {},
   "outputs": [
    {
     "name": "stdout",
     "output_type": "stream",
     "text": [
      "[5, 4, 3, 2, 1]\n"
     ]
    }
   ],
   "source": [
    "l = [1, 2, 3, 4, 5]\n",
    "# l.reverse()\n",
    "# print(l)\n",
    "# print(l[::-1])\n",
    "new_list = []\n",
    "for i in range(len(l) - 1, -1, -1):\n",
    "    new_list.append(l[i])\n",
    "print(new_list)"
   ]
  },
  {
   "cell_type": "markdown",
   "id": "6d6a667f-d12e-4f48-8f99-63225902955e",
   "metadata": {},
   "source": [
    "### Задача 7\n",
    "Дан список: `[5, 2, 5, 8, 5, 3]`. Посчитай, сколько раз встречается число 5, и выведи его индекс(ы) через цикл."
   ]
  },
  {
   "cell_type": "code",
   "execution_count": 19,
   "id": "48859ccb-8e80-4330-a085-84a3fa6948f4",
   "metadata": {},
   "outputs": [
    {
     "name": "stdout",
     "output_type": "stream",
     "text": [
      "3\n"
     ]
    }
   ],
   "source": [
    "l = [5, 2, 5, 8, 5, 3]\n",
    "count = 0\n",
    "for num in l:\n",
    "    if num == 5:\n",
    "        count += 1\n",
    "print(count)"
   ]
  },
  {
   "cell_type": "markdown",
   "id": "271879a4-96b0-4131-bd2a-1bd2069fee82",
   "metadata": {},
   "source": [
    "### Задача 8\n",
    "Даны два списка: `[1, 2, 3]` и `[4, 5, 6]`. Объедини их тремя способами:\n",
    "- Через +.\n",
    "- Через `extend()`.\n",
    "- Через цикл и `append()`."
   ]
  },
  {
   "cell_type": "code",
   "execution_count": null,
   "id": "f4632791-839e-41bb-8ac9-38c18350c8cd",
   "metadata": {},
   "outputs": [],
   "source": [
    "a = [1, 2, 3]\n",
    "b = [4, 5, 6]\n",
    "# дальше ваш код"
   ]
  },
  {
   "cell_type": "markdown",
   "id": "702cce38-944a-489d-a79c-01478eeed7c0",
   "metadata": {},
   "source": [
    "### Задача 9\n",
    "Дан список: `[12, -4, 0, 25, 9]`. Найди минимальный и максимальный элементы без использования min()/max() (через цикл)."
   ]
  },
  {
   "cell_type": "code",
   "execution_count": null,
   "id": "3b8ab34c-4bd3-48ff-ae61-83d89a0b9e64",
   "metadata": {},
   "outputs": [],
   "source": [
    "l = [12, -4, 0, 25, 9]\n",
    "# дальше ваш код"
   ]
  },
  {
   "cell_type": "markdown",
   "id": "ae928974-9172-4d42-aaca-93ae763c6fc7",
   "metadata": {},
   "source": [
    "### Задача 10\n",
    "Создай список чисел от 1 до 5, затем преобразуй его в список их квадратов: `[1, 4, 9, 16, 25]` (используй цикл).\n",
    "\n",
    "**Важно**: возвести в квадрат переменную `a`, например, можно двумя способами: `a * a` или `a ** 2`"
   ]
  },
  {
   "cell_type": "code",
   "execution_count": null,
   "id": "d230e38b-f249-44d3-b55f-eeda6075ebb4",
   "metadata": {},
   "outputs": [],
   "source": [
    "# Тут подсказок больше нет, так что дальше ваш код :)"
   ]
  },
  {
   "cell_type": "markdown",
   "id": "9c6b540b-73c3-48df-9f27-bd90184257a7",
   "metadata": {},
   "source": [
    "### Задача 11\n",
    "Дан список: `[\"a\", \"b\", \"c\", \"d\"]`. Сдвинь все элементы на 1 вправо (последний становится первым): `[\"d\", \"a\", \"b\", \"c\"]`."
   ]
  },
  {
   "cell_type": "code",
   "execution_count": null,
   "id": "e2152e76-f8b9-4a5e-8e06-e0eb280c9f42",
   "metadata": {},
   "outputs": [],
   "source": [
    "l = [\"a\", \"b\", \"c\", \"d\"]\n",
    "# дальше ваш код"
   ]
  },
  {
   "cell_type": "markdown",
   "id": "a3a1d753-5d63-4ffe-b3a6-38150bde4c51",
   "metadata": {},
   "source": [
    "### Задача 12\n",
    "Дан список: `[4, 7, 2, 10, 3, 5]`. Создай новый список, содержащий только четные числа из исходного списка."
   ]
  },
  {
   "cell_type": "code",
   "execution_count": null,
   "id": "e1f2e9ef-32cd-45e1-87d9-0ee38532e522",
   "metadata": {},
   "outputs": [],
   "source": [
    "l = [4, 7, 2, 10, 3, 5]\n",
    "# дальше ваш код"
   ]
  },
  {
   "cell_type": "markdown",
   "id": "25c03647-4e41-4e65-976b-23ca55290924",
   "metadata": {},
   "source": [
    "### Задача 13\n",
    "Дан список: `[1, 2, 3, 4, 5]`. Вставь элементы `[10, 20, 30]` после каждого второго элемента исходного списка.\n",
    "Пример результата: `[1, 2, 10, 20, 30, 3, 4, 10, 20, 30, 5]`"
   ]
  },
  {
   "cell_type": "code",
   "execution_count": null,
   "id": "40ad7779-e3d7-4f28-bf66-b94f2bfcc977",
   "metadata": {},
   "outputs": [],
   "source": [
    "l = [1, 2, 3, 4, 5]\n",
    "to_insert = [10, 20, 30]\n",
    "# дальше ваш код"
   ]
  },
  {
   "cell_type": "markdown",
   "id": "80019c19-c0a7-4d98-8aab-879aaa64de59",
   "metadata": {},
   "source": [
    "### Задача 14\n",
    "Дан вложенный список: `[[1, 2], [3, 4], [5, 6]]`. Найди сумму всех элементов."
   ]
  },
  {
   "cell_type": "code",
   "execution_count": null,
   "id": "e305956a-1cb4-4e8f-a9a6-0f65f8804dd0",
   "metadata": {},
   "outputs": [],
   "source": [
    "l = [[1, 2], [3, 4], [5, 6]]\n",
    "# дальше ваш код"
   ]
  },
  {
   "cell_type": "markdown",
   "id": "67298bb8-f82d-4f86-a145-b0acf8b5be21",
   "metadata": {},
   "source": [
    "### Задача 15\n",
    "Дан произвольный список. Нужно проверить, является ли он палиндромом (читается одинаково слева направо и справа налево)"
   ]
  },
  {
   "cell_type": "code",
   "execution_count": null,
   "id": "231e47fa-2281-44d2-9954-8cfcdbb6f7cb",
   "metadata": {},
   "outputs": [],
   "source": [
    "l = [1, 2, 3, 2, 1]\n",
    "# дальше ваш код"
   ]
  }
 ],
 "metadata": {
  "kernelspec": {
   "display_name": "Python 3 (ipykernel)",
   "language": "python",
   "name": "python3"
  },
  "language_info": {
   "codemirror_mode": {
    "name": "ipython",
    "version": 3
   },
   "file_extension": ".py",
   "mimetype": "text/x-python",
   "name": "python",
   "nbconvert_exporter": "python",
   "pygments_lexer": "ipython3",
   "version": "3.12.4"
  }
 },
 "nbformat": 4,
 "nbformat_minor": 5
}
